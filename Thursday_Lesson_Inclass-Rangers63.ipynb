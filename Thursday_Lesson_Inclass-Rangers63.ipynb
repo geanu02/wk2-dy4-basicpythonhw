{
 "cells": [
  {
   "cell_type": "markdown",
   "metadata": {},
   "source": [
    "# Object-Oriented-Programming (OOP)"
   ]
  },
  {
   "cell_type": "markdown",
   "metadata": {},
   "source": [
    "## Tasks Today:\n",
    "\n",
    "   \n",
    "\n",
    "1) <b>Creating a Class (Initializing/Declaring)</b> <br>\n",
    "2) <b>Using a Class (Instantiating)</b> <br>\n",
    " &nbsp;&nbsp;&nbsp;&nbsp; a) Creating One Instance <br>\n",
    " &nbsp;&nbsp;&nbsp;&nbsp; b) Creating Multiple Instances <br>\n",
    " &nbsp;&nbsp;&nbsp;&nbsp; c) In-Class Exercise #1 - Create a Class 'Car' and instantiate three different makes of cars <br>\n",
    "3) <b>The \\__init\\__() Method</b> <br>\n",
    " &nbsp;&nbsp;&nbsp;&nbsp; a) The 'self' Attribute <br>\n",
    "4) <b>Class Attributes</b> <br>\n",
    " &nbsp;&nbsp;&nbsp;&nbsp; a) Initializing Attributes <br>\n",
    " &nbsp;&nbsp;&nbsp;&nbsp; b) Setting an Attribute Outside of the \\__init\\__() Method <br>\n",
    " &nbsp;&nbsp;&nbsp;&nbsp; c) Setting Defaults for Attributes <br>\n",
    " &nbsp;&nbsp;&nbsp;&nbsp; d) Accessing Class Attributes <br>\n",
    " &nbsp;&nbsp;&nbsp;&nbsp; e) Changing Class Attributes <br>\n",
    " &nbsp;&nbsp;&nbsp;&nbsp; f) In-Class Exercise #2 - Add a color and wheels attribute to your 'Car' class <br>\n",
    "5) <b>Class Methods</b> <br>\n",
    " &nbsp;&nbsp;&nbsp;&nbsp; a) Creating <br>\n",
    " &nbsp;&nbsp;&nbsp;&nbsp; b) Calling <br>\n",
    " &nbsp;&nbsp;&nbsp;&nbsp; c) Modifying an Attribute's Value Through a Method <br>\n",
    " &nbsp;&nbsp;&nbsp;&nbsp; d) Incrementing an Attribute's Value Through a Method <br>\n",
    " &nbsp;&nbsp;&nbsp;&nbsp; e) In-Class Exercise #3 - Add a method that prints the cars color and wheel number, then call them <br>\n",
    "6) <b>Inheritance</b> <br>\n",
    " &nbsp;&nbsp;&nbsp;&nbsp; a) Syntax for Inheriting from a Parent Class <br>\n",
    " &nbsp;&nbsp;&nbsp;&nbsp; b) The \\__init\\__() Method for a Child Class (super()) <br>\n",
    " &nbsp;&nbsp;&nbsp;&nbsp; c) Defining Attributes and Methods for the Child Class <br>\n",
    " &nbsp;&nbsp;&nbsp;&nbsp; d) Method Overriding <br>\n",
    " &nbsp;&nbsp;&nbsp;&nbsp; e) In-Class Exercise #4 - Create a class 'Ford' that inherits from 'Car' class and initialize it as a Blue Ford Explorer with 4 wheels using the super() method <br>\n",
    "7) <b>Classes as Attributes</b> <br>\n",
    "8) <b>Exercises</b> <br>\n",
    " &nbsp;&nbsp;&nbsp;&nbsp; a) Exercise #1 - Turn the shopping cart program from yesterday into an object-oriented program <br>"
   ]
  },
  {
   "cell_type": "markdown",
   "metadata": {},
   "source": [
    "## Creating a Class (Initializing/Declaring)\n",
    "<p>When creating a class, function, or even a variable you are initializing that object. Initializing and Declaring occur at the same time in Python, whereas in lower level languages you have to declare an object before initializing it. This is the first step in the process of using a class.</p>"
   ]
  },
  {
   "cell_type": "code",
   "execution_count": null,
   "metadata": {},
   "outputs": [],
   "source": [
    "class Car():\n",
    "    wheels = 4\n",
    "    color = 'blue'"
   ]
  },
  {
   "cell_type": "markdown",
   "metadata": {},
   "source": [
    "## Using a Class (Instantiating)\n",
    "<p>The process of creating a class is called <i>Instantiating</i>. Each time you create a variable of that type of class, it is referred to as an <i>Instance</i> of that class. This is the second step in the process of using a class.</p>"
   ]
  },
  {
   "cell_type": "markdown",
   "metadata": {},
   "source": [
    "##### Creating One Instance"
   ]
  },
  {
   "cell_type": "code",
   "execution_count": null,
   "metadata": {},
   "outputs": [],
   "source": [
    "ford = Car()\n",
    "print(ford)"
   ]
  },
  {
   "cell_type": "markdown",
   "metadata": {},
   "source": [
    "##### Creating Multiple Instances"
   ]
  },
  {
   "cell_type": "code",
   "execution_count": null,
   "metadata": {},
   "outputs": [],
   "source": [
    "chevy = Car()\n",
    "honda = Car()\n",
    "volvo = Car()\n",
    "\n",
    "print(honda.wheels)\n",
    "print(chevy.wheels)\n",
    "print(volvo.color)"
   ]
  },
  {
   "cell_type": "code",
   "execution_count": null,
   "metadata": {},
   "outputs": [],
   "source": [
    "volvo.color = 'green'\n",
    "\n",
    "print(volvo.color)"
   ]
  },
  {
   "cell_type": "markdown",
   "metadata": {},
   "source": [
    "##### In-Class Exercise #1 - Create a Class 'Car' and Instantiate three different makes of cars"
   ]
  },
  {
   "cell_type": "code",
   "execution_count": null,
   "metadata": {},
   "outputs": [],
   "source": []
  },
  {
   "cell_type": "markdown",
   "metadata": {},
   "source": [
    "## The \\__init\\__() Method <br>\n",
    "<p>This method is used in almost every created class, and called only once upon the creation of the class instance. This method will initialize all variables needed for the object.</p>"
   ]
  },
  {
   "cell_type": "markdown",
   "metadata": {},
   "source": [
    "`self` represents an instance of this class.\n",
    "\n",
    "`class attributes` are variables that do not need to change.\n",
    "\n",
    "`instance attributes` are variables inside the `__init__` that usually change."
   ]
  },
  {
   "cell_type": "code",
   "execution_count": null,
   "metadata": {},
   "outputs": [],
   "source": [
    "class Agent:\n",
    "    name = \"Smith\"\n",
    "    \n",
    "    def __init__(self, person_overwritten, weapon):\n",
    "        self.p_overwritten = person_overwritten\n",
    "        self.weapon = weapon\n",
    "        self.in_matrix = True"
   ]
  },
  {
   "cell_type": "code",
   "execution_count": null,
   "metadata": {},
   "outputs": [],
   "source": [
    "new_agent = Agent(\"Maria Sharapova\", \"Jingle Jangle\")\n",
    "\n",
    "new_agent.in_matrix"
   ]
  },
  {
   "cell_type": "markdown",
   "metadata": {},
   "source": [
    "##### The 'self' Attribute <br>\n",
    "<p>This attribute is required to keep track of specific instance's attributes. Without the self attribute, the program would not know how to reference or keep track of an instance's attributes.</p>"
   ]
  },
  {
   "cell_type": "code",
   "execution_count": null,
   "metadata": {},
   "outputs": [],
   "source": [
    "# see above"
   ]
  },
  {
   "cell_type": "markdown",
   "metadata": {},
   "source": [
    "## Class Attributes <br>\n",
    "<p>While variables are inside of a class, they are referred to as attributes and not variables. When someone says 'attribute' you know they're speaking about a class. Attributes can be initialized through the init method, or outside of it.</p>"
   ]
  },
  {
   "cell_type": "markdown",
   "metadata": {},
   "source": [
    "##### Initializing Attributes"
   ]
  },
  {
   "cell_type": "code",
   "execution_count": null,
   "metadata": {},
   "outputs": [],
   "source": [
    "# see above"
   ]
  },
  {
   "cell_type": "markdown",
   "metadata": {},
   "source": [
    "##### Accessing Class Attributes"
   ]
  },
  {
   "cell_type": "code",
   "execution_count": null,
   "metadata": {
    "scrolled": true
   },
   "outputs": [],
   "source": [
    "new_agent.p_overwritten"
   ]
  },
  {
   "cell_type": "code",
   "execution_count": null,
   "metadata": {},
   "outputs": [],
   "source": [
    "Agent.name"
   ]
  },
  {
   "cell_type": "markdown",
   "metadata": {},
   "source": [
    "##### Setting Defaults for Attributes"
   ]
  },
  {
   "cell_type": "code",
   "execution_count": null,
   "metadata": {},
   "outputs": [],
   "source": [
    "# see above\n",
    "\n",
    "new_agent.in_matrix"
   ]
  },
  {
   "cell_type": "markdown",
   "metadata": {},
   "source": [
    "##### Changing Class Attributes <br>\n",
    "<p>Keep in mind there are global class attributes and then there are attributes only available to each class instance which won't effect other classes.</p>"
   ]
  },
  {
   "cell_type": "code",
   "execution_count": null,
   "metadata": {},
   "outputs": [],
   "source": [
    "print(new_agent.name)\n",
    "new_agent.name = \"Brown\"\n",
    "print(new_agent.name, \"after change\")"
   ]
  },
  {
   "cell_type": "code",
   "execution_count": null,
   "metadata": {},
   "outputs": [],
   "source": [
    "print(new_agent.p_overwritten, \"before\")\n",
    "new_agent.p_overwritten = 'Bill'\n",
    "print(new_agent.p_overwritten, \"after\")"
   ]
  },
  {
   "cell_type": "markdown",
   "metadata": {},
   "source": [
    "##### In-Class Exercise #2 - Add a doors and seats attribute to your 'Car' class then print out two different instances with different doors and seats"
   ]
  },
  {
   "cell_type": "code",
   "execution_count": null,
   "metadata": {},
   "outputs": [],
   "source": []
  },
  {
   "cell_type": "markdown",
   "metadata": {},
   "source": [
    "## Class Methods <br>\n",
    "<p>While inside of a class, functions are referred to as 'methods'. If you hear someone mention methods, they're speaking about classes. Methods are essentially functions, but only callable on the instances of a class.</p>"
   ]
  },
  {
   "cell_type": "markdown",
   "metadata": {},
   "source": [
    "##### Creating"
   ]
  },
  {
   "cell_type": "code",
   "execution_count": null,
   "metadata": {},
   "outputs": [],
   "source": [
    "class Human_Matrix_Universe:\n",
    "    \n",
    "    '''\n",
    "        A class with methods to get training, enter matrix,\n",
    "        leave matrix, battle agents, and decide to stay\n",
    "        Class Attributes:\n",
    "            name, fighting styles (list), awake (bool)\n",
    "    '''\n",
    "    \n",
    "    def __init__(self, name, fighting_styles=[], awake=False):\n",
    "        self.name = name\n",
    "        self.fighting_styles = fighting_styles\n",
    "        self.awake = awake\n",
    "        self.location = 1\n",
    "        \n",
    "    def pill_decision(self, pill):\n",
    "    # Updating a Class Attribute\n",
    "        if pill == 'red':\n",
    "            self.awake = True\n",
    "            print(f'\\n {self.name}You are now awake!')\n",
    "        elif pill == 'blue':\n",
    "            self.awake = False\n",
    "            print(f'\\n Stays hooked to the machine, {self.name}.')\n",
    "        else:\n",
    "            pass\n",
    "    \n",
    "    def get_training(self):\n",
    "        self.fighting_styles += ['kung fu', 'taek won do', 'aikido', 'drunken monk', 'twinchung']\n",
    "        print(f'\\n You know {self.fighting_styles}')\n",
    "    \n",
    "# Dynamically adjust class attribute\n",
    "\n",
    "    def specific_training(self, fighting_style):\n",
    "        self.fighting_styles.append()\n",
    "        print(f'\\n You know {fighting_style}')\n",
    "    \n",
    "    def enter_matrix(self):\n",
    "        print('\\n Plug in, Enter the Matrix')\n",
    "        self.location = 1\n",
    "    \n",
    "    def exit_matrix(self):\n",
    "        print('\\n Pick up the Phone, Exit the Matrix')\n",
    "        self.location = 0\n",
    "    \n",
    "    def dodge_bullets(self):\n",
    "        if self.location and self.awake:\n",
    "            print(f'\\n {self.name}! The agents are coming, slow down time, do crazy backbends!')\n",
    "        else:\n",
    "            print('\\n Run!')\n",
    "            \n",
    "    def driver(self):\n",
    "        pill = input('Red pill down the rabbit hole, Blue pill believe whatever you like ').lower()\n",
    "        self.pill_decision(pill)\n",
    "        while self.awake:\n",
    "            res = input(f\"Are you ready for training, {self.name}? \").lower()\n",
    "            if res == 'yes':\n",
    "                self.get_training()\n",
    "            self.enter_matrix()\n",
    "            self.dodge_bullets()\n",
    "            self.exit_matrix()\n",
    "            pill = input('Red pill down the rabbit hole, Blue pill believe whatever you like ').lower()\n",
    "            self.pill_decision(pill)"
   ]
  },
  {
   "cell_type": "code",
   "execution_count": null,
   "metadata": {},
   "outputs": [],
   "source": [
    "new_human = Human_Matrix_Universe(\"Madam\", [\"Kickboxing\"])\n",
    "\n",
    "new_human.driver()"
   ]
  },
  {
   "cell_type": "markdown",
   "metadata": {},
   "source": [
    "##### Calling"
   ]
  },
  {
   "cell_type": "code",
   "execution_count": null,
   "metadata": {},
   "outputs": [],
   "source": [
    "neo = Human_Matrix_Universe('Neo')\n",
    "neo.name"
   ]
  },
  {
   "cell_type": "code",
   "execution_count": null,
   "metadata": {},
   "outputs": [],
   "source": [
    "neo.pill_decision('red')\n",
    "\n",
    "neo.awake\n",
    "\n",
    "neo.dodge_bullets()"
   ]
  },
  {
   "cell_type": "markdown",
   "metadata": {},
   "source": [
    "##### Modifying an Attribute's Value Through a Method"
   ]
  },
  {
   "cell_type": "code",
   "execution_count": null,
   "metadata": {},
   "outputs": [],
   "source": [
    "print(neo.fighting_styles)\n",
    "\n",
    "neo.specific_training('boxing')\n",
    "\n",
    "print(neo.fighting_styles)"
   ]
  },
  {
   "cell_type": "markdown",
   "metadata": {},
   "source": [
    "##### Incrementing an Attribute's Value Through a Method"
   ]
  },
  {
   "cell_type": "code",
   "execution_count": null,
   "metadata": {},
   "outputs": [],
   "source": []
  },
  {
   "cell_type": "markdown",
   "metadata": {},
   "source": [
    "##### In-Class Exercise #3 - Add a method that takes in three parameters of year, doors and seats and prints out a formatted print statement with make, model, year, seats, and doors"
   ]
  },
  {
   "cell_type": "code",
   "execution_count": null,
   "metadata": {},
   "outputs": [],
   "source": [
    "# Create class with 2 paramters inside of the __init__ which are make and model\n",
    "\n",
    "# Inside of the Car class create a method that has 4 parameter in total (self,year,door,seats)\n",
    "\n",
    "# Output: This car is from 2019 and is a Ford Expolorer and has 4 doors and 5 seats\n",
    "\n"
   ]
  },
  {
   "cell_type": "markdown",
   "metadata": {},
   "source": [
    "## Inheritance <br>\n",
    "<p>You can create a child-parent relationship between two classes by using inheritance. What this allows you to do is have overriding methods, but also inherit traits from the parent class. Think of it as an actual parent and child, the child will inherit the parent's genes, as will the classes in OOP</p>"
   ]
  },
  {
   "cell_type": "markdown",
   "metadata": {},
   "source": [
    "##### Syntax for Inheriting from a Parent Class"
   ]
  },
  {
   "cell_type": "code",
   "execution_count": null,
   "metadata": {},
   "outputs": [],
   "source": [
    "class Fantasy_Character:\n",
    "    \n",
    "    speed = 10\n",
    "    \n",
    "    def __init__(self, name, fantasy_class, stats):\n",
    "        self.name = name\n",
    "        self.fantasy_class = fantasy_class\n",
    "        self.stats = stats\n",
    "        \n",
    "    def display_character(self):\n",
    "        print(f'{self.name} {self.fantasy_class} {self.stats}')\n",
    "        \n",
    "class Human(Fantasy_Character):\n",
    "    \n",
    "    def display_fantasy_race(self):\n",
    "        print(\"I am a human\")"
   ]
  },
  {
   "cell_type": "code",
   "execution_count": null,
   "metadata": {},
   "outputs": [],
   "source": [
    "dummy_stats = {\n",
    "    'strength': 10,\n",
    "    'dexterity': 10,\n",
    "    'agility': 12\n",
    "}\n",
    "\n",
    "new_human = Human('Aragorn', 'Fighter', dummy_stats)\n",
    "new_human.display_fantasy_race()\n",
    "new_human.speed\n",
    "new_human.display_character()"
   ]
  },
  {
   "cell_type": "markdown",
   "metadata": {},
   "source": [
    "##### The \\__init\\__() Method for a Child Class - super()"
   ]
  },
  {
   "cell_type": "code",
   "execution_count": null,
   "metadata": {
    "scrolled": true
   },
   "outputs": [],
   "source": [
    "from random import randint\n",
    "\n",
    "class Hobbit(Fantasy_Character):\n",
    "    speed = 12\n",
    "    size = 'small'\n",
    "    \n",
    "    def __init__(self, name, fantasy_class, stats, height):\n",
    "        super().__init__(name, fantasy_class, stats)\n",
    "        self.height = height\n",
    "        \n",
    "    def lucky(self):\n",
    "        print(f'You gain a {randint(1, self.stats[\"dexterity\"])} bonus to your luck roll.')\n",
    "        \n",
    "    def display_my_class(self):\n",
    "        print('My class is a hobbit')\n",
    "        \n"
   ]
  },
  {
   "cell_type": "code",
   "execution_count": null,
   "metadata": {},
   "outputs": [],
   "source": [
    "bilbo = Hobbit('bilbo', 'ranger', dummy_stats, 4)"
   ]
  },
  {
   "cell_type": "code",
   "execution_count": null,
   "metadata": {},
   "outputs": [],
   "source": [
    "bilbo.speed"
   ]
  },
  {
   "cell_type": "code",
   "execution_count": null,
   "metadata": {},
   "outputs": [],
   "source": [
    "bilbo.display_character()\n",
    "bilbo.display_my_class()"
   ]
  },
  {
   "cell_type": "markdown",
   "metadata": {},
   "source": [
    "##### Defining Attributes and Methods for the Child Class"
   ]
  },
  {
   "cell_type": "code",
   "execution_count": null,
   "metadata": {},
   "outputs": [],
   "source": [
    "# See Above"
   ]
  },
  {
   "cell_type": "markdown",
   "metadata": {},
   "source": [
    "##### Method Overriding"
   ]
  },
  {
   "cell_type": "code",
   "execution_count": null,
   "metadata": {},
   "outputs": [],
   "source": [
    "class Stout_Hobbit(Hobbit):\n",
    "    \n",
    "    def __init__(self, name, fantasy_class, stats, height, weight):\n",
    "        super().__init__(name, fantasy_class, stats, height)\n",
    "        self.weight = weight\n",
    "        \n",
    "    def display_my_class(self):\n",
    "        print('My class is stout hobbit')\n"
   ]
  },
  {
   "cell_type": "code",
   "execution_count": null,
   "metadata": {},
   "outputs": [],
   "source": [
    "        \n",
    "sam = Stout_Hobbit(\"Sam\", \"Barbarian\", dummy_stats, 4, 200)"
   ]
  },
  {
   "cell_type": "code",
   "execution_count": null,
   "metadata": {},
   "outputs": [],
   "source": [
    "sam.display_my_class()"
   ]
  },
  {
   "cell_type": "markdown",
   "metadata": {},
   "source": [
    "## Classes as Attributes <br>\n",
    "<p>Classes can also be used as attributes within another class. This is useful in situations where you need to keep variables locally stored, instead of globally stored.</p>"
   ]
  },
  {
   "cell_type": "code",
   "execution_count": null,
   "metadata": {},
   "outputs": [],
   "source": [
    "class Stats:\n",
    "    \n",
    "    def __init__(self, strength=10, dexterity=10, constitution=10, intelligence=10, wisdom=10, charisma=10):\n",
    "        self.strength = strength\n",
    "        self.dexterity = dexterity\n",
    "        self.constitution = constitution\n",
    "        self.intelligence = intelligence\n",
    "        self.wisdom = wisdom\n",
    "        self.charisma = charisma\n",
    "        "
   ]
  },
  {
   "cell_type": "code",
   "execution_count": null,
   "metadata": {},
   "outputs": [],
   "source": [
    "new_stats = Stats()\n",
    "\n",
    "new_character = Hobbit(\"Frodo\", \"Dufis\", new_stats, 4)\n",
    "\n",
    "new_character.stats.dexterity"
   ]
  },
  {
   "cell_type": "markdown",
   "metadata": {},
   "source": [
    "# Exercises"
   ]
  },
  {
   "cell_type": "markdown",
   "metadata": {},
   "source": [
    "### Exercise 1 - Turn the shopping cart program from yesterday into an object-oriented program\n",
    "\n",
    "The comments in the cell below are there as a guide for thinking about the problem. However, if you feel a different way is best for you and your own thought process, please do what feels best for you by all means."
   ]
  },
  {
   "cell_type": "code",
   "execution_count": 2,
   "metadata": {},
   "outputs": [
    {
     "name": "stdout",
     "output_type": "stream",
     "text": [
      "Show, Add, Modify, Delete item or Clear your cart? Quit to Checkout add\n",
      "\n",
      "Product Shelf:\n",
      "apple: $1.25 per piece\n",
      "banana: $0.25 per piece\n",
      "orange: $0.65 per piece\n",
      "You have nothing in your cart.\n",
      "Product you want to add? cassava\n",
      "How many cassava to add? 2\n",
      "cassava not available.\n",
      "Show, Add, Modify, Delete item or Clear your cart? Quit to Checkout add\n",
      "\n",
      "Product Shelf:\n",
      "apple: $1.25 per piece\n",
      "banana: $0.25 per piece\n",
      "orange: $0.65 per piece\n",
      "You have nothing in your cart.\n",
      "Product you want to add? apple\n",
      "How many apple to add? 2\n",
      "apple (Qty of 2) added to cart.\n",
      "Show, Add, Modify, Delete item or Clear your cart? Quit to Checkout orange 3\n",
      "Not a valid response\n",
      "Show, Add, Modify, Delete item or Clear your cart? Quit to Checkout add\n",
      "\n",
      "Product Shelf:\n",
      "apple: $1.25 per piece\n",
      "banana: $0.25 per piece\n",
      "orange: $0.65 per piece\n",
      "\n",
      "Your Cart:\n",
      "apple: 1.25 x 2 = $2.5\n",
      "Total Price in Cart: $2.5\n",
      "Product you want to add? orange\n",
      "How many orange to add? 3\n",
      "orange (Qty of 3) added to cart.\n",
      "Show, Add, Modify, Delete item or Clear your cart? Quit to Checkout ad\n",
      "Not a valid response\n",
      "Show, Add, Modify, Delete item or Clear your cart? Quit to Checkout add\n",
      "\n",
      "Product Shelf:\n",
      "apple: $1.25 per piece\n",
      "banana: $0.25 per piece\n",
      "orange: $0.65 per piece\n",
      "\n",
      "Your Cart:\n",
      "apple: 1.25 x 2 = $2.5\n",
      "orange: 0.65 x 3 = $1.9500000000000002\n",
      "Total Price in Cart: $4.45\n",
      "Product you want to add? banana\n",
      "How many banana to add? 100\n",
      "banana (Qty of 100) added to cart.\n",
      "Show, Add, Modify, Delete item or Clear your cart? Quit to Checkout show\n",
      "\n",
      "Your Cart:\n",
      "apple: 1.25 x 2 = $2.5\n",
      "orange: 0.65 x 3 = $1.9500000000000002\n",
      "banana: 0.25 x 100 = $25.0\n",
      "Total Price in Cart: $29.45\n",
      "Show, Add, Modify, Delete item or Clear your cart? Quit to Checkout add\n",
      "\n",
      "Product Shelf:\n",
      "apple: $1.25 per piece\n",
      "banana: $0.25 per piece\n",
      "orange: $0.65 per piece\n",
      "\n",
      "Your Cart:\n",
      "apple: 1.25 x 2 = $2.5\n",
      "orange: 0.65 x 3 = $1.9500000000000002\n",
      "banana: 0.25 x 100 = $25.0\n",
      "Total Price in Cart: $29.45\n",
      "Product you want to add? q\n",
      "How many q to add? a\n"
     ]
    },
    {
     "ename": "ValueError",
     "evalue": "invalid literal for int() with base 10: 'a'",
     "output_type": "error",
     "traceback": [
      "\u001b[0;31m---------------------------------------------------------------------------\u001b[0m",
      "\u001b[0;31mValueError\u001b[0m                                Traceback (most recent call last)",
      "\u001b[0;32m/var/folders/dk/jqmf4jln4hnb9x0s643s8vqw0000gn/T/ipykernel_70419/4235747876.py\u001b[0m in \u001b[0;36m<module>\u001b[0;34m\u001b[0m\n\u001b[1;32m    118\u001b[0m \u001b[0;34m\u001b[0m\u001b[0m\n\u001b[1;32m    119\u001b[0m \u001b[0mgian_cart\u001b[0m \u001b[0;34m=\u001b[0m \u001b[0mCart\u001b[0m\u001b[0;34m(\u001b[0m\u001b[0;34m)\u001b[0m\u001b[0;34m\u001b[0m\u001b[0;34m\u001b[0m\u001b[0m\n\u001b[0;32m--> 120\u001b[0;31m \u001b[0mgian_cart\u001b[0m\u001b[0;34m.\u001b[0m\u001b[0mdrive\u001b[0m\u001b[0;34m(\u001b[0m\u001b[0;34m)\u001b[0m\u001b[0;34m\u001b[0m\u001b[0;34m\u001b[0m\u001b[0m\n\u001b[0m",
      "\u001b[0;32m/var/folders/dk/jqmf4jln4hnb9x0s643s8vqw0000gn/T/ipykernel_70419/4235747876.py\u001b[0m in \u001b[0;36mdrive\u001b[0;34m(self)\u001b[0m\n\u001b[1;32m     89\u001b[0m                 \u001b[0mself\u001b[0m\u001b[0;34m.\u001b[0m\u001b[0mshow_products\u001b[0m\u001b[0;34m(\u001b[0m\u001b[0;34m)\u001b[0m\u001b[0;34m\u001b[0m\u001b[0;34m\u001b[0m\u001b[0m\n\u001b[1;32m     90\u001b[0m                 \u001b[0mself\u001b[0m\u001b[0;34m.\u001b[0m\u001b[0mshow_cart\u001b[0m\u001b[0;34m(\u001b[0m\u001b[0;34m)\u001b[0m\u001b[0;34m\u001b[0m\u001b[0;34m\u001b[0m\u001b[0m\n\u001b[0;32m---> 91\u001b[0;31m                 \u001b[0mself\u001b[0m\u001b[0;34m.\u001b[0m\u001b[0madd_cart\u001b[0m\u001b[0;34m(\u001b[0m\u001b[0;34m)\u001b[0m\u001b[0;34m\u001b[0m\u001b[0;34m\u001b[0m\u001b[0m\n\u001b[0m\u001b[1;32m     92\u001b[0m \u001b[0;34m\u001b[0m\u001b[0m\n\u001b[1;32m     93\u001b[0m             \u001b[0;32melif\u001b[0m \u001b[0minitial_ans\u001b[0m \u001b[0;34m==\u001b[0m \u001b[0;34m'modify'\u001b[0m \u001b[0;32mor\u001b[0m \u001b[0minitial_ans\u001b[0m \u001b[0;34m==\u001b[0m \u001b[0;34m'm'\u001b[0m\u001b[0;34m:\u001b[0m\u001b[0;34m\u001b[0m\u001b[0;34m\u001b[0m\u001b[0m\n",
      "\u001b[0;32m/var/folders/dk/jqmf4jln4hnb9x0s643s8vqw0000gn/T/ipykernel_70419/4235747876.py\u001b[0m in \u001b[0;36madd_cart\u001b[0;34m(self)\u001b[0m\n\u001b[1;32m     32\u001b[0m     \u001b[0;32mdef\u001b[0m \u001b[0madd_cart\u001b[0m\u001b[0;34m(\u001b[0m\u001b[0mself\u001b[0m\u001b[0;34m)\u001b[0m\u001b[0;34m:\u001b[0m\u001b[0;34m\u001b[0m\u001b[0;34m\u001b[0m\u001b[0m\n\u001b[1;32m     33\u001b[0m         \u001b[0mprod_add\u001b[0m \u001b[0;34m=\u001b[0m \u001b[0minput\u001b[0m\u001b[0;34m(\u001b[0m\u001b[0;34m\"Product you want to add? \"\u001b[0m\u001b[0;34m)\u001b[0m\u001b[0;34m.\u001b[0m\u001b[0mlower\u001b[0m\u001b[0;34m(\u001b[0m\u001b[0;34m)\u001b[0m\u001b[0;34m\u001b[0m\u001b[0;34m\u001b[0m\u001b[0m\n\u001b[0;32m---> 34\u001b[0;31m         \u001b[0mqty_add\u001b[0m \u001b[0;34m=\u001b[0m \u001b[0mint\u001b[0m\u001b[0;34m(\u001b[0m\u001b[0minput\u001b[0m\u001b[0;34m(\u001b[0m\u001b[0;34mf\"How many {prod_add} to add? \"\u001b[0m\u001b[0;34m)\u001b[0m\u001b[0;34m)\u001b[0m\u001b[0;34m\u001b[0m\u001b[0;34m\u001b[0m\u001b[0m\n\u001b[0m\u001b[1;32m     35\u001b[0m \u001b[0;34m\u001b[0m\u001b[0m\n\u001b[1;32m     36\u001b[0m         \u001b[0;32mif\u001b[0m \u001b[0mprod_add\u001b[0m \u001b[0;32min\u001b[0m \u001b[0mself\u001b[0m\u001b[0;34m.\u001b[0m\u001b[0mcart\u001b[0m\u001b[0;34m.\u001b[0m\u001b[0mkeys\u001b[0m\u001b[0;34m(\u001b[0m\u001b[0;34m)\u001b[0m\u001b[0;34m:\u001b[0m\u001b[0;34m\u001b[0m\u001b[0;34m\u001b[0m\u001b[0m\n",
      "\u001b[0;31mValueError\u001b[0m: invalid literal for int() with base 10: 'a'"
     ]
    }
   ],
   "source": [
    "# Create a class called cart that retains items and has methods to add, remove, and show\n",
    "\n",
    "from IPython.display import clear_output\n",
    "\n",
    "class Cart:\n",
    "    \n",
    "    cart = {}\n",
    "    \n",
    "    products = {\n",
    "        'apple': 1.25,\n",
    "        'banana': 0.25,\n",
    "        'orange': 0.65  \n",
    "    }\n",
    "    \n",
    "    def show_products(self):\n",
    "        print(\"\\nProduct Shelf:\")\n",
    "        for k, v in self.products.items():\n",
    "            print(f\"{k}: ${v} per piece\")\n",
    "    \n",
    "    def show_cart(self):\n",
    "        if self.cart:\n",
    "            print(\"\\nYour Cart:\")\n",
    "            total_price = 0\n",
    "            for k, v in self.cart.items():\n",
    "                item_total = v['unit_price'] * v['quantity']\n",
    "                print(f\"{k}: {v['unit_price']} x {v['quantity']} = ${item_total}\")\n",
    "                total_price += item_total\n",
    "            print(f\"Total Price in Cart: ${total_price}\")\n",
    "        else:\n",
    "             print(\"You have nothing in your cart.\")\n",
    "                \n",
    "    def add_cart(self):\n",
    "        prod_add = input(\"Product you want to add? \").lower()\n",
    "        qty_add = int(input(f\"How many {prod_add} to add? \"))\n",
    "                      \n",
    "        if prod_add in self.cart.keys():\n",
    "            input_clear = input(f\"There are {str(self.cart[prod_add]['quantity'])} {prod_add} already in cart. Add to existing or replace? \").lower()\n",
    "            if input_clear == \"add\" or input_clear == \"a\":\n",
    "                self.cart[prod_add]['quantity'] += qty_add\n",
    "                print(f\"{prod_add} (Qty of {qty_add}) added to cart.\")\n",
    "            elif input_clear == \"replace\" or input_clear == \"r\":\n",
    "                self.cart[prod_add]['quantity'] = qty_add\n",
    "                print(f\"{prod_add} (Qty of {qty_add}) added to cart.\")\n",
    "            else:\n",
    "                print(\"Invalid response. Nothing added to cart.\")\n",
    "        elif prod_add in self.products.keys():\n",
    "            self.cart[prod_add] = {}\n",
    "            self.cart[prod_add]['quantity'] = qty_add\n",
    "            self.cart[prod_add]['unit_price'] = self.products[prod_add]\n",
    "            print(f\"{prod_add} (Qty of {qty_add}) added to cart.\")\n",
    "        else:\n",
    "            print(f\"{prod_add} not available.\")\n",
    "        \n",
    "    def modify_quantity(self):\n",
    "        prod_mod = input(\"Product you want to adjust quantity? \").lower()\n",
    "        if prod_mod in self.cart.keys():\n",
    "            qty_mod = int(input(f\"Adjust {self.cart[prod_mod]['quantity']} {prod_mod} to ? \"))\n",
    "            self.cart[prod_mod]['quantity'] = qty_mod\n",
    "            print(f\"{prod_mod} (Qty of {qty_mod}) adjusted successfully.\")\n",
    "        else:\n",
    "            print(f\"Invalid response. Nothing changed with {prod_mod} quantity.\")\n",
    "   \n",
    "    def delete_item(self):\n",
    "        prod_del = input(\"Item you want to delete from cart? \").lower()\n",
    "        if prod_del in self.cart.keys():\n",
    "            self.cart.pop(prod_del)\n",
    "            print(f\"{prod_del} deleted successfully.\")\n",
    "        else:\n",
    "            print(f\"Invalid response. {prod_del} still in cart.\")\n",
    "            \n",
    "    def clear_cart(self):\n",
    "        input_clear = input(\"Are you sure you want to clear your cart? \").lower()\n",
    "        if input_clear == \"yes\" or input_clear == \"y\":\n",
    "            self.cart = {}\n",
    "            print(\"Cart is now empty.\")\n",
    "        else:\n",
    "            print(\"Clear cart is cancelled. All items are still in cart.\")\n",
    "            self.show_cart()\n",
    "        \n",
    "    def drive(self):\n",
    "        \n",
    "        while True:\n",
    "            initial_ans = input(\"Show, Add, Modify, Delete item or Clear your cart? Quit to Checkout \").lower()\n",
    "                \n",
    "            if initial_ans == 'show' or initial_ans == 's':\n",
    "                self.show_cart()\n",
    "                \n",
    "            elif initial_ans == 'add' or initial_ans == 'a':\n",
    "                self.show_products()\n",
    "                self.show_cart()\n",
    "                self.add_cart()\n",
    "                \n",
    "            elif initial_ans == 'modify' or initial_ans == 'm':\n",
    "                self.show_products()\n",
    "                self.show_cart()\n",
    "                self.modify_quantity()\n",
    "                \n",
    "            elif initial_ans == 'delete' or initial_ans == 'd':\n",
    "                self.show_products()\n",
    "                self.show_cart()\n",
    "                self.delete_item()\n",
    "                \n",
    "            elif initial_ans == 'clear' or initial_ans == 'c':\n",
    "                if self.cart:\n",
    "                    self.show_cart()\n",
    "                    self.clear_cart()\n",
    "                else:\n",
    "                    print(\"No reason to clear. Your cart is empty.\")\n",
    "            \n",
    "            elif initial_ans == 'quit' or initial_ans == 'q':     \n",
    "                if self.cart:\n",
    "                    self.show_cart()\n",
    "                break\n",
    "\n",
    "            # Continue with while: if initial_ans is not a valid response.\n",
    "            else:\n",
    "                print(\"Not a valid response\")\n",
    "                \n",
    "gian_cart = Cart()\n",
    "gian_cart.drive()"
   ]
  },
  {
   "cell_type": "code",
   "execution_count": null,
   "metadata": {},
   "outputs": [],
   "source": []
  },
  {
   "cell_type": "markdown",
   "metadata": {},
   "source": [
    "### Exercise 2 - Write a Python class which has two methods get_String and print_String. get_String accept a string from the user and print_String print the string in upper case"
   ]
  },
  {
   "cell_type": "code",
   "execution_count": null,
   "metadata": {},
   "outputs": [],
   "source": [
    "class Gian:\n",
    "    \n",
    "    def __init__(self):\n",
    "        self.string_input = \"\"\n",
    "\n",
    "    def get_String(self):\n",
    "        self.str_input = input(\"String Input: \")\n",
    "        \n",
    "    def print_String(self):\n",
    "        print(self.str_input.upper())"
   ]
  },
  {
   "cell_type": "code",
   "execution_count": null,
   "metadata": {},
   "outputs": [],
   "source": [
    "gian = Gian()\n",
    "gian.get_String()"
   ]
  },
  {
   "cell_type": "code",
   "execution_count": null,
   "metadata": {},
   "outputs": [],
   "source": [
    "gian.print_String()"
   ]
  }
 ],
 "metadata": {
  "kernelspec": {
   "display_name": "Python 3 (ipykernel)",
   "language": "python",
   "name": "python3"
  },
  "language_info": {
   "codemirror_mode": {
    "name": "ipython",
    "version": 3
   },
   "file_extension": ".py",
   "mimetype": "text/x-python",
   "name": "python",
   "nbconvert_exporter": "python",
   "pygments_lexer": "ipython3",
   "version": "3.9.13"
  }
 },
 "nbformat": 4,
 "nbformat_minor": 2
}
